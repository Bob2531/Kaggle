{
 "cells": [
  {
   "cell_type": "markdown",
   "metadata": {},
   "source": [
    "## Used to Match Origin Image to Cut Image"
   ]
  },
  {
   "cell_type": "code",
   "execution_count": 1,
   "metadata": {
    "collapsed": true
   },
   "outputs": [],
   "source": [
    "import os, sys"
   ]
  },
  {
   "cell_type": "code",
   "execution_count": 2,
   "metadata": {
    "collapsed": true
   },
   "outputs": [],
   "source": [
    "origin_test_dir = \"/Users/liuweijie/Desktop/origin6003-7921/\"\n",
    "cut_test_dir = \"/Users/liuweijie/Desktop/cut6003-7921/\""
   ]
  },
  {
   "cell_type": "code",
   "execution_count": 3,
   "metadata": {
    "collapsed": false
   },
   "outputs": [
    {
     "name": "stdout",
     "output_type": "stream",
     "text": [
      "['img_06003.jpg', 'img_06010.jpg', 'img_06021.jpg', 'img_06033.jpg', 'img_06037.jpg', 'img_06038.jpg', 'img_06042.jpg', 'img_06059.jpg', 'img_06065.jpg', 'img_06067.jpg', 'img_06076.jpg', 'img_06097.jpg', 'img_06099.jpg', 'img_06101.jpg', 'img_06103.jpg', 'img_06137.jpg', 'img_06144.jpg', 'img_06147.jpg', 'img_06165.jpg', 'img_06174.jpg', 'img_06186.jpg', 'img_06189.jpg', 'img_06203.jpg', 'img_06207.jpg', 'img_06210.jpg', 'img_06211.jpg', 'img_06237.jpg', 'img_06238.jpg', 'img_06259.jpg', 'img_06261.jpg', 'img_06268.jpg', 'img_06272.jpg', 'img_06273.jpg', 'img_06285.jpg', 'img_06294.jpg', 'img_06302.jpg', 'img_06311.jpg', 'img_06318.jpg', 'img_06321.jpg', 'img_06324.jpg', 'img_06332.jpg', 'img_06345.jpg', 'img_06346.jpg', 'img_06349.jpg', 'img_06368.jpg', 'img_06369.jpg', 'img_06371.jpg', 'img_06373.jpg', 'img_06401.jpg', 'img_06412.jpg', 'img_06424.jpg', 'img_06426.jpg', 'img_06440.jpg', 'img_06455.jpg', 'img_06469.jpg', 'img_06475.jpg', 'img_06477.jpg', 'img_06489.jpg', 'img_06496.jpg', 'img_06506.jpg', 'img_06508.jpg', 'img_06510.jpg', 'img_06521.jpg', 'img_06522.jpg', 'img_06525.jpg', 'img_06541.jpg', 'img_06547.jpg', 'img_06549.jpg', 'img_06555.jpg', 'img_06559.jpg', 'img_06564.jpg', 'img_06571.jpg', 'img_06585.jpg', 'img_06608.jpg', 'img_06611.jpg', 'img_06614.jpg', 'img_06616.jpg', 'img_06630.jpg', 'img_06637.jpg', 'img_06642.jpg', 'img_06646.jpg', 'img_06658.jpg', 'img_06662.jpg', 'img_06663.jpg', 'img_06673.jpg', 'img_06681.jpg', 'img_06684.jpg', 'img_06685.jpg', 'img_06690.jpg', 'img_06698.jpg', 'img_06732.jpg', 'img_06734.jpg', 'img_06748.jpg', 'img_06756.jpg', 'img_06780.jpg', 'img_06783.jpg', 'img_06798.jpg', 'img_06800.jpg', 'img_06806.jpg', 'img_06807.jpg', 'img_06808.jpg', 'img_06812.jpg', 'img_06831.jpg', 'img_06832.jpg', 'img_06845.jpg', 'img_06849.jpg', 'img_06851.jpg', 'img_06859.jpg', 'img_06860.jpg', 'img_06870.jpg', 'img_06892.jpg', 'img_06893.jpg', 'img_06899.jpg', 'img_06902.jpg', 'img_06909.jpg', 'img_06914.jpg', 'img_06916.jpg', 'img_06921.jpg', 'img_06922.jpg', 'img_06936.jpg', 'img_06939.jpg', 'img_06946.jpg', 'img_06947.jpg', 'img_06955.jpg', 'img_06959.jpg', 'img_06962.jpg', 'img_06966.jpg', 'img_06975.jpg', 'img_06985.jpg', 'img_06986.jpg', 'img_07005.jpg', 'img_07023.jpg', 'img_07043.jpg', 'img_07044.jpg', 'img_07045.jpg', 'img_07050.jpg', 'img_07051.jpg', 'img_07054.jpg', 'img_07060.jpg', 'img_07062.jpg', 'img_07065.jpg', 'img_07068.jpg', 'img_07079.jpg', 'img_07084.jpg', 'img_07086.jpg', 'img_07094.jpg', 'img_07103.jpg', 'img_07110.jpg', 'img_07120.jpg', 'img_07122.jpg', 'img_07137.jpg', 'img_07143.jpg', 'img_07146.jpg', 'img_07147.jpg', 'img_07149.jpg', 'img_07156.jpg', 'img_07157.jpg', 'img_07160.jpg', 'img_07173.jpg', 'img_07179.jpg', 'img_07183.jpg', 'img_07187.jpg', 'img_07188.jpg', 'img_07191.jpg', 'img_07192.jpg', 'img_07199.jpg', 'img_07213.jpg', 'img_07224.jpg', 'img_07231.jpg', 'img_07237.jpg', 'img_07251.jpg', 'img_07270.jpg', 'img_07278.jpg', 'img_07304.jpg', 'img_07314.jpg', 'img_07318.jpg', 'img_07319.jpg', 'img_07330.jpg', 'img_07348.jpg', 'img_07352.jpg', 'img_07354.jpg', 'img_07371.jpg', 'img_07375.jpg', 'img_07409.jpg', 'img_07417.jpg', 'img_07419.jpg', 'img_07420.jpg', 'img_07426.jpg', 'img_07428.jpg', 'img_07434.jpg', 'img_07436.jpg', 'img_07448.jpg', 'img_07460.jpg', 'img_07467.jpg', 'img_07469.jpg', 'img_07474.jpg', 'img_07501.jpg', 'img_07505.jpg', 'img_07508.jpg', 'img_07514.jpg', 'img_07526.jpg', 'img_07528.jpg', 'img_07538.jpg', 'img_07543.jpg', 'img_07553.jpg', 'img_07561.jpg', 'img_07563.jpg', 'img_07574.jpg', 'img_07578.jpg', 'img_07580.jpg', 'img_07583.jpg', 'img_07590.jpg', 'img_07594.jpg', 'img_07616.jpg', 'img_07621.jpg', 'img_07623.jpg', 'img_07628.jpg', 'img_07659.jpg', 'img_07663.jpg', 'img_07678.jpg', 'img_07689.jpg', 'img_07700.jpg', 'img_07717.jpg', 'img_07746.jpg', 'img_07757.jpg', 'img_07792.jpg', 'img_07799.jpg', 'img_07818.jpg', 'img_07833.jpg', 'img_07859.jpg', 'img_07872.jpg', 'img_07893.jpg', 'img_07895.jpg', 'img_07905.jpg', 'img_07906.jpg', 'img_07908.jpg', 'img_07910.jpg', 'img_07921.jpg']\n",
      "['MacX 1.png', 'MacX 10.png', 'MacX 100.png', 'MacX 101.png', 'MacX 102.png', 'MacX 103.png', 'MacX 104.png', 'MacX 105.png', 'MacX 106.png', 'MacX 107.png', 'MacX 108.png', 'MacX 109.png', 'MacX 11.png', 'MacX 110.png', 'MacX 111.png', 'MacX 112.png', 'MacX 113.png', 'MacX 114.png', 'MacX 115.png', 'MacX 116.png', 'MacX 117.png', 'MacX 118.png', 'MacX 119.png', 'MacX 12.png', 'MacX 120.png', 'MacX 121.png', 'MacX 122.png', 'MacX 123.png', 'MacX 124.png', 'MacX 125.png', 'MacX 126.png', 'MacX 127.png', 'MacX 128.png', 'MacX 129.png', 'MacX 13.png', 'MacX 130.png', 'MacX 131.png', 'MacX 132.png', 'MacX 133.png', 'MacX 134.png', 'MacX 135.png', 'MacX 136.png', 'MacX 137.png', 'MacX 138.png', 'MacX 139.png', 'MacX 14.png', 'MacX 140.png', 'MacX 141.png', 'MacX 142.png', 'MacX 143.png', 'MacX 144.png', 'MacX 145.png', 'MacX 146.png', 'MacX 147.png', 'MacX 148.png', 'MacX 149.png', 'MacX 15.png', 'MacX 150.png', 'MacX 151.png', 'MacX 152.png', 'MacX 153.png', 'MacX 154.png', 'MacX 155.png', 'MacX 156.png', 'MacX 157.png', 'MacX 158.png', 'MacX 159.png', 'MacX 16.png', 'MacX 160.png', 'MacX 161.png', 'MacX 162.png', 'MacX 163.png', 'MacX 164.png', 'MacX 165.png', 'MacX 166.png', 'MacX 167.png', 'MacX 168.png', 'MacX 169.png', 'MacX 17.png', 'MacX 170.png', 'MacX 171.png', 'MacX 172.png', 'MacX 173.png', 'MacX 174.png', 'MacX 175.png', 'MacX 176.png', 'MacX 177.png', 'MacX 178.png', 'MacX 179.png', 'MacX 18.png', 'MacX 180.png', 'MacX 181.png', 'MacX 182.png', 'MacX 183.png', 'MacX 184.png', 'MacX 185.png', 'MacX 186.png', 'MacX 187.png', 'MacX 188.png', 'MacX 189.png', 'MacX 19.png', 'MacX 190.png', 'MacX 191.png', 'MacX 192.png', 'MacX 193.png', 'MacX 194.png', 'MacX 195.png', 'MacX 196.png', 'MacX 197.png', 'MacX 198.png', 'MacX 199.png', 'MacX 2.png', 'MacX 20.png', 'MacX 200.png', 'MacX 201.png', 'MacX 202.png', 'MacX 203.png', 'MacX 204.png', 'MacX 205.png', 'MacX 206.png', 'MacX 207.png', 'MacX 208.png', 'MacX 209.png', 'MacX 21.png', 'MacX 210.png', 'MacX 211.png', 'MacX 212.png', 'MacX 213.png', 'MacX 214.png', 'MacX 215.png', 'MacX 216.png', 'MacX 217.png', 'MacX 218.png', 'MacX 219.png', 'MacX 22.png', 'MacX 220.png', 'MacX 221.png', 'MacX 222.png', 'MacX 223.png', 'MacX 224.png', 'MacX 225.png', 'MacX 226.png', 'MacX 227.png', 'MacX 228.png', 'MacX 229.png', 'MacX 23.png', 'MacX 230.png', 'MacX 231.png', 'MacX 232.png', 'MacX 233.png', 'MacX 234.png', 'MacX 235.png', 'MacX 236.png', 'MacX 237.png', 'MacX 238.png', 'MacX 24.png', 'MacX 25.png', 'MacX 26.png', 'MacX 27.png', 'MacX 28.png', 'MacX 29.png', 'MacX 3.png', 'MacX 30.png', 'MacX 31.png', 'MacX 32.png', 'MacX 33.png', 'MacX 34.png', 'MacX 35.png', 'MacX 36.png', 'MacX 37.png', 'MacX 38.png', 'MacX 39.png', 'MacX 4.png', 'MacX 40.png', 'MacX 41.png', 'MacX 42.png', 'MacX 43.png', 'MacX 44.png', 'MacX 45.png', 'MacX 46.png', 'MacX 47.png', 'MacX 48.png', 'MacX 49.png', 'MacX 5.png', 'MacX 50.png', 'MacX 51.png', 'MacX 52.png', 'MacX 53.png', 'MacX 54.png', 'MacX 55.png', 'MacX 56.png', 'MacX 57.png', 'MacX 58.png', 'MacX 59.png', 'MacX 6.png', 'MacX 60.png', 'MacX 61.png', 'MacX 62.png', 'MacX 63.png', 'MacX 64.png', 'MacX 65.png', 'MacX 66.png', 'MacX 67.png', 'MacX 68.png', 'MacX 69.png', 'MacX 7.png', 'MacX 70.png', 'MacX 71.png', 'MacX 72.png', 'MacX 73.png', 'MacX 74.png', 'MacX 75.png', 'MacX 76.png', 'MacX 77.png', 'MacX 78.png', 'MacX 79.png', 'MacX 8.png', 'MacX 80.png', 'MacX 81.png', 'MacX 82.png', 'MacX 83.png', 'MacX 84.png', 'MacX 85.png', 'MacX 86.png', 'MacX 87.png', 'MacX 88.png', 'MacX 89.png', 'MacX 9.png', 'MacX 90.png', 'MacX 91.png', 'MacX 92.png', 'MacX 93.png', 'MacX 94.png', 'MacX 95.png', 'MacX 96.png', 'MacX 97.png', 'MacX 98.png', 'MacX 99.png']\n"
     ]
    }
   ],
   "source": [
    "origin_names = os.listdir(origin_test_dir)\n",
    "cut_names = os.listdir(cut_test_dir)\n",
    "print origin_names\n",
    "print cut_names"
   ]
  },
  {
   "cell_type": "code",
   "execution_count": 4,
   "metadata": {
    "collapsed": false
   },
   "outputs": [
    {
     "name": "stdout",
     "output_type": "stream",
     "text": [
      "Rename successfully\n"
     ]
    }
   ],
   "source": [
    "# get cut_name to index in orgin_name\n",
    "for cut_name in cut_names:\n",
    "    # get index\n",
    "    idx = cut_name[5:]\n",
    "    idx = idx[0:-4]\n",
    "    idx = int(idx) - 1\n",
    "    \n",
    "    # get origin name\n",
    "    origin_name = origin_names[idx]\n",
    "    \n",
    "    # rename\n",
    "    cut_name_url = os.path.join(cut_test_dir, cut_name)\n",
    "    dest_name_url = os.path.join(cut_test_dir, origin_name)\n",
    "    os.rename(cut_name_url, dest_name_url)\n",
    "\n",
    "print \"Rename successfully\""
   ]
  },
  {
   "cell_type": "code",
   "execution_count": null,
   "metadata": {
    "collapsed": true
   },
   "outputs": [],
   "source": []
  }
 ],
 "metadata": {
  "kernelspec": {
   "display_name": "Python 2",
   "language": "python",
   "name": "python2"
  },
  "language_info": {
   "codemirror_mode": {
    "name": "ipython",
    "version": 2
   },
   "file_extension": ".py",
   "mimetype": "text/x-python",
   "name": "python",
   "nbconvert_exporter": "python",
   "pygments_lexer": "ipython2",
   "version": "2.7.12"
  }
 },
 "nbformat": 4,
 "nbformat_minor": 0
}
