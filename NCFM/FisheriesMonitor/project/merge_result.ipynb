{
 "cells": [
  {
   "cell_type": "markdown",
   "metadata": {
    "collapsed": true
   },
   "source": [
    "## Merge Result\n",
    "\n",
    "Merge result from two results"
   ]
  },
  {
   "cell_type": "code",
   "execution_count": 1,
   "metadata": {
    "collapsed": false
   },
   "outputs": [
    {
     "name": "stderr",
     "output_type": "stream",
     "text": [
      "Using TensorFlow backend.\n"
     ]
    }
   ],
   "source": [
    "import csv\n",
    "import numpy as np\n",
    "from data_managers import make_submission"
   ]
  },
  {
   "cell_type": "code",
   "execution_count": 2,
   "metadata": {
    "collapsed": true
   },
   "outputs": [],
   "source": [
    "# a util for read results.csv\n",
    "def read_csv_result_to_dict(filename):\n",
    "    result = {}\n",
    "    with open(filename, 'r') as file:\n",
    "        reader = csv.reader(file)\n",
    "        for line in reader:\n",
    "            \n",
    "            if line[0][0:3] != 'img':\n",
    "                continue\n",
    "            \n",
    "            result[line[0]] = [float(p) for p in line[1:]]\n",
    "            \n",
    "    return result"
   ]
  },
  {
   "cell_type": "code",
   "execution_count": 3,
   "metadata": {
    "collapsed": false
   },
   "outputs": [],
   "source": [
    "# load result\n",
    "full_img_result = read_csv_result_to_dict('../results/ipv3_ave10.csv')\n",
    "region_img_result = read_csv_result_to_dict('../results/submission_ipv3_region-15-multiview.csv')"
   ]
  },
  {
   "cell_type": "markdown",
   "metadata": {
    "collapsed": true
   },
   "source": [
    "## Start Merge"
   ]
  },
  {
   "cell_type": "code",
   "execution_count": 4,
   "metadata": {
    "collapsed": false
   },
   "outputs": [],
   "source": [
    "merge_result = []\n",
    "img_names = []\n",
    "for img_name in region_img_result:\n",
    "    \n",
    "    img_names.append(img_name)\n",
    "    \n",
    "    region_scores = region_img_result[img_name]\n",
    "    full_scores = full_img_result[img_name]\n",
    "\n",
    "    region_idx = np.argmax(np.array(region_scores))\n",
    "    if region_idx == 4:\n",
    "        merge_result.append(full_scores)\n",
    "    else:\n",
    "        ave_result = np.array(region_scores)\n",
    "        merge_result.append(ave_result)\n",
    "\n",
    "merge_result = np.array(merge_result)\n",
    "img_names = np.array(img_names)"
   ]
  },
  {
   "cell_type": "code",
   "execution_count": 5,
   "metadata": {
    "collapsed": false
   },
   "outputs": [
    {
     "name": "stdout",
     "output_type": "stream",
     "text": [
      "Submission file has been generated: ../results/ipv3_region_merge_full.csv\n"
     ]
    }
   ],
   "source": [
    "make_submission('../results/ipv3_region_merge_full.csv', merge_result, img_names)"
   ]
  },
  {
   "cell_type": "code",
   "execution_count": null,
   "metadata": {
    "collapsed": true
   },
   "outputs": [],
   "source": []
  }
 ],
 "metadata": {
  "kernelspec": {
   "display_name": "Python 2",
   "language": "python",
   "name": "python2"
  },
  "language_info": {
   "codemirror_mode": {
    "name": "ipython",
    "version": 2
   },
   "file_extension": ".py",
   "mimetype": "text/x-python",
   "name": "python",
   "nbconvert_exporter": "python",
   "pygments_lexer": "ipython2",
   "version": "2.7.12"
  }
 },
 "nbformat": 4,
 "nbformat_minor": 0
}
