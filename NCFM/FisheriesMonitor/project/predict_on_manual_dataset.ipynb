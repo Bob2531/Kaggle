{
 "cells": [
  {
   "cell_type": "markdown",
   "metadata": {},
   "source": [
    "# Predict on Manual Dataset with IPV3"
   ]
  },
  {
   "cell_type": "code",
   "execution_count": 1,
   "metadata": {
    "collapsed": false
   },
   "outputs": [
    {
     "name": "stderr",
     "output_type": "stream",
     "text": [
      "Using TensorFlow backend.\n"
     ]
    }
   ],
   "source": [
    "from myutils import create_inception_v3, average_predict_in_augument, preprocessing_for_ipv3, load_array\n",
    "from data_managers import load_test_dataset, make_submission"
   ]
  },
  {
   "cell_type": "code",
   "execution_count": 2,
   "metadata": {
    "collapsed": false
   },
   "outputs": [],
   "source": [
    "# settings\n",
    "input_size = (299, 299)\n",
    "batch_size = 32\n",
    "test_dataset_dir = \"../dataset/manual_regions_dataset_balanced/test_stage1\"\n",
    "weights_file = \"../models/manual_region_balanced/ipv3_manual_region-19--0.09--0.97.h5\"\n",
    "submission_file = \"../results/manual_region_balanced/ipv3_manual_region_balanced_t19.csv\""
   ]
  },
  {
   "cell_type": "code",
   "execution_count": 3,
   "metadata": {
    "collapsed": false
   },
   "outputs": [
    {
     "name": "stderr",
     "output_type": "stream",
     "text": [
      "/home/liuweijie/workspace/FisheriesMonitor/.env/local/lib/python2.7/site-packages/keras/applications/inception_v3.py:291: UserWarning: You are using the TensorFlow backend, yet you are using the Theano image dimension ordering convention (`image_dim_ordering=\"th\"`). For best performance, set `image_dim_ordering=\"tf\"` in your Keras config at ~/.keras/keras.json.\n",
      "  warnings.warn('You are using the TensorFlow backend, yet you '\n"
     ]
    }
   ],
   "source": [
    "# create model and load weights\n",
    "ipv3 = create_inception_v3(input_size)\n",
    "ipv3.load_weights(weights_file)"
   ]
  },
  {
   "cell_type": "code",
   "execution_count": 4,
   "metadata": {
    "collapsed": false
   },
   "outputs": [],
   "source": [
    "# load data\n",
    "X_test, img_names = load_test_dataset(test_dataset_dir=test_dataset_dir, img_size=input_size)"
   ]
  },
  {
   "cell_type": "code",
   "execution_count": 5,
   "metadata": {
    "collapsed": true
   },
   "outputs": [],
   "source": [
    "# preprocess for ipv3\n",
    "X_test = preprocessing_for_ipv3(X_test)\n",
    "\n",
    "# get X_mean\n",
    "x_mean_file = \"../models/manual_region_balanced/X_mean.pickle\"\n",
    "X_mean = load_array(x_mean_file)\n",
    "\n",
    "X_test = X_test - X_mean"
   ]
  },
  {
   "cell_type": "code",
   "execution_count": 6,
   "metadata": {
    "collapsed": false
   },
   "outputs": [
    {
     "name": "stdout",
     "output_type": "stream",
     "text": [
      "0 / 1000\n",
      "200 / 1000\n",
      "400 / 1000\n",
      "600 / 1000\n",
      "800 / 1000\n"
     ]
    }
   ],
   "source": [
    "# predict and make submission\n",
    "Y_test_ave = average_predict_in_augument(ipv3, X_test, nb_average=10, verbose=1)"
   ]
  },
  {
   "cell_type": "code",
   "execution_count": 7,
   "metadata": {
    "collapsed": false
   },
   "outputs": [
    {
     "name": "stdout",
     "output_type": "stream",
     "text": [
      "Submission file has been generated: ../results/manual_region_balanced/ipv3_manual_region_balanced_t19.csv\n"
     ]
    }
   ],
   "source": [
    "make_submission(submission_file, Y_test_ave, img_names)"
   ]
  },
  {
   "cell_type": "code",
   "execution_count": null,
   "metadata": {
    "collapsed": true
   },
   "outputs": [],
   "source": []
  }
 ],
 "metadata": {
  "kernelspec": {
   "display_name": "Python 2",
   "language": "python",
   "name": "python2"
  },
  "language_info": {
   "codemirror_mode": {
    "name": "ipython",
    "version": 2
   },
   "file_extension": ".py",
   "mimetype": "text/x-python",
   "name": "python",
   "nbconvert_exporter": "python",
   "pygments_lexer": "ipython2",
   "version": "2.7.12"
  }
 },
 "nbformat": 4,
 "nbformat_minor": 0
}
