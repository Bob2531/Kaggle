{
 "cells": [
  {
   "cell_type": "markdown",
   "metadata": {},
   "source": [
    "# Translate Result to Best"
   ]
  },
  {
   "cell_type": "markdown",
   "metadata": {},
   "source": [
    "Assume that the accuracy of you result is p, then set upper limit probability is x and the buttom limit is (1-x)/7. The score you will get is:\n",
    "\n",
    "    score = -p*log(x) - (1 - p)*log((1-x)/7)\n",
    "\n",
    "so when x=p, the score reaches the minium.\n",
    "\n",
    "How can I know my accuracy on the online test dataset? you can submmit a one-hot-vector result, and get you socre s'. You can calculate your p by the formula below.\n",
    "\n",
    "    p = 1 - s'/ 34.53"
   ]
  },
  {
   "cell_type": "code",
   "execution_count": 6,
   "metadata": {
    "collapsed": false
   },
   "outputs": [],
   "source": [
    "import numpy as np\n",
    "from myutils import read_csv_result\n",
    "from data_managers import make_submission\n",
    "\n",
    "\n",
    "result_origin = '../results/manual_region_balanced/ipv3_manual_region_balanced_t19.csv'\n",
    "result_onehot = '../results/manual_region_balanced/ipv3_manual_region_balanced_t19_onehot.csv'\n",
    "result_best = \"../results/manual_region_balanced/ipv3_manual_region_balanced_t19_best(1.0_0.005).csv\""
   ]
  },
  {
   "cell_type": "markdown",
   "metadata": {},
   "source": [
    "## Make One-hot Result\n",
    "\n",
    "First, translate your result to one-hot form."
   ]
  },
  {
   "cell_type": "code",
   "execution_count": 7,
   "metadata": {
    "collapsed": false
   },
   "outputs": [
    {
     "name": "stdout",
     "output_type": "stream",
     "text": [
      "Submission file has been generated: ../results/manual_region_balanced/ipv3_manual_region_balanced_t19_onehot.csv\n"
     ]
    }
   ],
   "source": [
    "def translate_one_hot(result):\n",
    "    onehot = np.zeros_like(result)\n",
    "    onehot[result>=0.5] = 1.0\n",
    "    return onehot    \n",
    "\n",
    "scores_origin, imgnames = read_csv_result(result_origin)\n",
    "scores_onehot = translate_one_hot(scores_origin)\n",
    "make_submission(result_onehot, scores_onehot, imgnames)"
   ]
  },
  {
   "cell_type": "markdown",
   "metadata": {},
   "source": [
    "Second, submmit the one-hot scores to the judge system to get your logloss value, and set the logloss to this value"
   ]
  },
  {
   "cell_type": "code",
   "execution_count": 3,
   "metadata": {
    "collapsed": false
   },
   "outputs": [
    {
     "name": "stdout",
     "output_type": "stream",
     "text": [
      "0.722929626412\n"
     ]
    }
   ],
   "source": [
    "logloss =  9.56724  # input one_hot online logloss\n",
    "accuracy = 1.0 - logloss / 34.53\n",
    "print accuracy"
   ]
  },
  {
   "cell_type": "markdown",
   "metadata": {
    "collapsed": true
   },
   "source": [
    "## Limit Scores"
   ]
  },
  {
   "cell_type": "code",
   "execution_count": 8,
   "metadata": {
    "collapsed": true
   },
   "outputs": [],
   "source": [
    "def limit_scores(scores, upper, lower):\n",
    "    scores[scores >= upper] = upper\n",
    "    scores[scores <= lower] = lower\n",
    "    return scores"
   ]
  },
  {
   "cell_type": "code",
   "execution_count": 9,
   "metadata": {
    "collapsed": false
   },
   "outputs": [],
   "source": [
    "# upper = accuracy\n",
    "# lower = (1 - upper) / 7.0\n",
    "upper = 1.0\n",
    "lower = 0.005\n",
    "scores_best = limit_scores(scores_origin, upper, lower)"
   ]
  },
  {
   "cell_type": "code",
   "execution_count": 10,
   "metadata": {
    "collapsed": false
   },
   "outputs": [
    {
     "name": "stdout",
     "output_type": "stream",
     "text": [
      "Submission file has been generated: ../results/manual_region_balanced/ipv3_manual_region_balanced_t19_best(1.0_0.005).csv\n"
     ]
    }
   ],
   "source": [
    "make_submission(result_best, scores_best, imgnames)"
   ]
  },
  {
   "cell_type": "markdown",
   "metadata": {},
   "source": [
    "Finally, submit the best result."
   ]
  },
  {
   "cell_type": "code",
   "execution_count": null,
   "metadata": {
    "collapsed": true
   },
   "outputs": [],
   "source": []
  },
  {
   "cell_type": "code",
   "execution_count": null,
   "metadata": {
    "collapsed": true
   },
   "outputs": [],
   "source": []
  },
  {
   "cell_type": "code",
   "execution_count": null,
   "metadata": {
    "collapsed": true
   },
   "outputs": [],
   "source": []
  }
 ],
 "metadata": {
  "kernelspec": {
   "display_name": "Python 2",
   "language": "python",
   "name": "python2"
  },
  "language_info": {
   "codemirror_mode": {
    "name": "ipython",
    "version": 2
   },
   "file_extension": ".py",
   "mimetype": "text/x-python",
   "name": "python",
   "nbconvert_exporter": "python",
   "pygments_lexer": "ipython2",
   "version": "2.7.12"
  }
 },
 "nbformat": 4,
 "nbformat_minor": 0
}
