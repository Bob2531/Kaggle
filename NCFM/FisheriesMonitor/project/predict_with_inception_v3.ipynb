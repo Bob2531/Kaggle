{
 "cells": [
  {
   "cell_type": "markdown",
   "metadata": {},
   "source": [
    "# Predict with Inception V3\n",
    "\n",
    "## Preparation\n",
    "\n",
    "The model weights must have be stored at models, such as\n",
    "\n",
    "    models/ipv3_ncfm_t20.h5\n",
    "\n",
    "if not, you can use the python script to train a IPV3 model, make sure you are in virtualenv\n",
    "\n",
    "```\n",
    "# setting some parameters in this scrip and run it\n",
    "$ python train_inception_v3.py\n",
    "\n",
    "```"
   ]
  },
  {
   "cell_type": "code",
   "execution_count": 1,
   "metadata": {
    "collapsed": false
   },
   "outputs": [
    {
     "name": "stderr",
     "output_type": "stream",
     "text": [
      "Using TensorFlow backend.\n"
     ]
    }
   ],
   "source": [
    "from myutils import create_inception_v3, average_predict_in_augument, preprocessing_for_ipv3\n",
    "from data_managers import load_test_dataset, make_submission"
   ]
  },
  {
   "cell_type": "code",
   "execution_count": 2,
   "metadata": {
    "collapsed": true
   },
   "outputs": [],
   "source": [
    "# settings\n",
    "input_size = (299, 299)\n",
    "batch_size = 32\n",
    "weights_file = \"../models/ipv3_ncfm_t70.h5\"\n",
    "submission_file = \"../results/submission_ipv3_t70.csv\"\n",
    "submission_file_ave = \"../results/submission_ipv3_ave_t70.csv\""
   ]
  },
  {
   "cell_type": "markdown",
   "metadata": {},
   "source": [
    "## Load IPV3"
   ]
  },
  {
   "cell_type": "code",
   "execution_count": 3,
   "metadata": {
    "collapsed": false
   },
   "outputs": [
    {
     "name": "stderr",
     "output_type": "stream",
     "text": [
      "/home/liuweijie/workspace/FisheriesMonitor/.env/local/lib/python2.7/site-packages/keras/applications/inception_v3.py:291: UserWarning: You are using the TensorFlow backend, yet you are using the Theano image dimension ordering convention (`image_dim_ordering=\"th\"`). For best performance, set `image_dim_ordering=\"tf\"` in your Keras config at ~/.keras/keras.json.\n",
      "  warnings.warn('You are using the TensorFlow backend, yet you '\n"
     ]
    }
   ],
   "source": [
    "# create model and load weights\n",
    "ipv3 = create_inception_v3(input_size)\n",
    "ipv3.load_weights(weights_file)"
   ]
  },
  {
   "cell_type": "markdown",
   "metadata": {},
   "source": [
    "## Load Test Dataset"
   ]
  },
  {
   "cell_type": "code",
   "execution_count": 4,
   "metadata": {
    "collapsed": true
   },
   "outputs": [],
   "source": [
    "# load data\n",
    "X_test, img_names = load_test_dataset(input_size)\n",
    "\n",
    "# preprocess for ipv3\n",
    "X_test = preprocessing_for_ipv3(X_test)"
   ]
  },
  {
   "cell_type": "markdown",
   "metadata": {},
   "source": [
    "## Predict"
   ]
  },
  {
   "cell_type": "code",
   "execution_count": 5,
   "metadata": {
    "collapsed": false
   },
   "outputs": [
    {
     "name": "stdout",
     "output_type": "stream",
     "text": [
      "1000/1000 [==============================] - 36s    \n",
      "Submission file has been generated: ../results/submission_ipv3_t70.csv\n"
     ]
    }
   ],
   "source": [
    "# predict and make submission\n",
    "Y_test = ipv3.predict(X_test, batch_size=batch_size, verbose=1)\n",
    "make_submission(submission_file, Y_test, img_names)"
   ]
  },
  {
   "cell_type": "markdown",
   "metadata": {},
   "source": [
    "## Predict with  Average"
   ]
  },
  {
   "cell_type": "code",
   "execution_count": 6,
   "metadata": {
    "collapsed": false
   },
   "outputs": [
    {
     "name": "stdout",
     "output_type": "stream",
     "text": [
      "0 / 1000\n",
      "200 / 1000\n",
      "400 / 1000\n",
      "600 / 1000\n",
      "800 / 1000\n",
      "Submission file has been generated: ../results/submission_ipv3_ave_t70.csv\n"
     ]
    }
   ],
   "source": [
    "# predict and make submission\n",
    "Y_test_ave = average_predict_in_augument(ipv3, X_test, nb_average=10, verbose=1)\n",
    "make_submission(submission_file_ave, Y_test_ave, img_names)"
   ]
  },
  {
   "cell_type": "code",
   "execution_count": null,
   "metadata": {
    "collapsed": true
   },
   "outputs": [],
   "source": []
  }
 ],
 "metadata": {
  "kernelspec": {
   "display_name": "Python 2",
   "language": "python",
   "name": "python2"
  },
  "language_info": {
   "codemirror_mode": {
    "name": "ipython",
    "version": 2
   },
   "file_extension": ".py",
   "mimetype": "text/x-python",
   "name": "python",
   "nbconvert_exporter": "python",
   "pygments_lexer": "ipython2",
   "version": "2.7.12"
  }
 },
 "nbformat": 4,
 "nbformat_minor": 0
}
