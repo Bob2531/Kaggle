{
 "cells": [
  {
   "cell_type": "markdown",
   "metadata": {
    "collapsed": true
   },
   "source": [
    "# Predict on Full Image with IPV3\n",
    "\n",
    "The IPV3 model has been trained with the script \"train_ipv3_on_full_image.py\", and the weights files are saved at \"weights/\" directory."
   ]
  },
  {
   "cell_type": "code",
   "execution_count": 1,
   "metadata": {
    "collapsed": false
   },
   "outputs": [
    {
     "name": "stderr",
     "output_type": "stream",
     "text": [
      "Using TensorFlow backend.\n"
     ]
    }
   ],
   "source": [
    "import os, sys\n",
    "sys.path.append(os.path.join(os.path.dirname(os.path.abspath('__file__')), '../'))\n",
    "import numpy as np\n",
    "from models.classifiers import Ipv3FullImageClssifier\n",
    "from myutils.dataio import TestDataReader, make_submission\n",
    "\n",
    "# settings\n",
    "seed = 7\n",
    "np.random.seed(seed)\n",
    "weights_file = \"weights/ipv3_full_image-36--0.26--0.93.h5\"\n",
    "batch_size = 32\n",
    "multiview = 10\n",
    "submission_file = \"results/ipv3_full_image-36_multiview_%s.csv\"%(multiview)"
   ]
  },
  {
   "cell_type": "code",
   "execution_count": 2,
   "metadata": {
    "collapsed": false
   },
   "outputs": [],
   "source": [
    "# load dataset\n",
    "test_data_reader = TestDataReader()\n",
    "images_test, image_test_names = test_data_reader.load_test_dataset(debug=0)"
   ]
  },
  {
   "cell_type": "code",
   "execution_count": 3,
   "metadata": {
    "collapsed": false
   },
   "outputs": [],
   "source": [
    "# load model\n",
    "ipv3_full_image = Ipv3FullImageClssifier(weights_file=weights_file)"
   ]
  },
  {
   "cell_type": "code",
   "execution_count": 4,
   "metadata": {
    "collapsed": false
   },
   "outputs": [
    {
     "name": "stdout",
     "output_type": "stream",
     "text": [
      "0 / 1000\n",
      "200 / 1000\n",
      "400 / 1000\n",
      "600 / 1000\n",
      "800 / 1000\n",
      "(1000, 8)\n"
     ]
    }
   ],
   "source": [
    "# predict\n",
    "scores_test = ipv3_full_image.predict(images_test, verbose=1, nb_multiview=multiview, seed=seed)\n",
    "print scores_test.shape"
   ]
  },
  {
   "cell_type": "code",
   "execution_count": 5,
   "metadata": {
    "collapsed": false
   },
   "outputs": [
    {
     "name": "stdout",
     "output_type": "stream",
     "text": [
      "Submission file has been generated: results/ipv3_full_image-36_multiview_10.csv\n"
     ]
    }
   ],
   "source": [
    "# make submission\n",
    "make_submission(submission_file, scores_test, image_test_names)"
   ]
  },
  {
   "cell_type": "markdown",
   "metadata": {},
   "source": [
    "## Limit Upper and Lower"
   ]
  },
  {
   "cell_type": "code",
   "execution_count": 40,
   "metadata": {
    "collapsed": true
   },
   "outputs": [],
   "source": [
    "def limit_upper_and_lower(scores, upper, lower):\n",
    "    scores[scores>=upper] = upper\n",
    "    scores[lower<=lower] = lower\n",
    "    return scores"
   ]
  },
  {
   "cell_type": "code",
   "execution_count": 41,
   "metadata": {
    "collapsed": false
   },
   "outputs": [
    {
     "name": "stderr",
     "output_type": "stream",
     "text": [
      "/home/jagger/workspace/NFCM_Classification/.env/lib/python2.7/site-packages/ipykernel/__main__.py:3: DeprecationWarning: using a boolean instead of an integer will result in an error in the future\n",
      "  app.launch_new_instance()\n"
     ]
    }
   ],
   "source": [
    "upper = 1.0\n",
    "lower = 0.007\n",
    "scores_test_limit = limit_upper_and_lower(scores_test, upper, lower)"
   ]
  },
  {
   "cell_type": "code",
   "execution_count": 42,
   "metadata": {
    "collapsed": false
   },
   "outputs": [
    {
     "name": "stdout",
     "output_type": "stream",
     "text": [
      "Submission file has been generated: results/ipv3_full_image-33_multiview_10_limit_(1.0_0.007).csv\n"
     ]
    }
   ],
   "source": [
    "# make submission\n",
    "file_name = \"results/ipv3_full_image-36_multiview_10_limit_(1.0_0.007).csv\"\n",
    "make_submission(file_name, scores_test, image_test_names)"
   ]
  },
  {
   "cell_type": "code",
   "execution_count": null,
   "metadata": {
    "collapsed": true
   },
   "outputs": [],
   "source": []
  }
 ],
 "metadata": {
  "kernelspec": {
   "display_name": "Python 2",
   "language": "python",
   "name": "python2"
  },
  "language_info": {
   "codemirror_mode": {
    "name": "ipython",
    "version": 2
   },
   "file_extension": ".py",
   "mimetype": "text/x-python",
   "name": "python",
   "nbconvert_exporter": "python",
   "pygments_lexer": "ipython2",
   "version": "2.7.12+"
  }
 },
 "nbformat": 4,
 "nbformat_minor": 0
}
